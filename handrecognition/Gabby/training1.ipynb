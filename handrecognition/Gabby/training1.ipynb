{
 "cells": [
  {
   "cell_type": "code",
   "execution_count": 1,
   "metadata": {},
   "outputs": [],
   "source": [
    "# importing libraries\n",
    "import numpy as np\n",
    "import cv2\n",
    "import os # dealing with directories\n",
    "from random import shuffle\n",
    "import matplotlib.pyplot as plt\n",
    "import math\n",
    "from tqdm import tqdm\n",
    "\n",
    "TRAIN_DIR_WHAT = 'C:/Users/gabri/Documents/Uni/Year 2/Engineering Design Project/Hard drive/Raw Data/DATABASE/What'\n",
    "TRAIN_DIR_HUNGRY = 'C:/Users/gabri/Documents/Uni/Year 2/Engineering Design Project/Hard drive/Raw Data/DATABASE/Hungry'\n",
    "IMG_W_O = 96\n",
    "IMG_W_F = 54\n",
    "IMG_H = 54\n",
    "TIME_FRAMES = 10"
   ]
  },
  {
   "cell_type": "code",
   "execution_count": 2,
   "metadata": {},
   "outputs": [],
   "source": [
    "def readVideo(videoFile):\n",
    "    cap = cv2.VideoCapture(videoFile)\n",
    "    vid = []\n",
    "    while(cap.isOpened()):\n",
    "        ret, frame = cap.read()\n",
    "        if ret == True:\n",
    "            img = cv2.cvtColor(np.array(frame), cv2.COLOR_BGR2GRAY)\n",
    "            frame = cv2.resize(img, (IMG_W_O, IMG_H))\n",
    "            img = frame[0:54, 20:74]\n",
    "            vid.append(np.array(img))\n",
    "        else: \n",
    "            break\n",
    "    cap.release()\n",
    "    return vid "
   ]
  },
  {
   "cell_type": "code",
   "execution_count": 3,
   "metadata": {},
   "outputs": [],
   "source": [
    "def sample(vid):\n",
    "    sample_width = math.ceil(len(vid) / TIME_FRAMES)\n",
    "    new_vid = []\n",
    "    i = 0\n",
    "    while (i < len(vid)):\n",
    "        new_vid.append(np.array(vid[i]))\n",
    "        i = i + sample_width\n",
    "    return new_vid"
   ]
  },
  {
   "cell_type": "code",
   "execution_count": 4,
   "metadata": {},
   "outputs": [],
   "source": [
    "def createTrainingData():\n",
    "    trainingData = []\n",
    "    for video in tqdm(os.listdir(TRAIN_DIR_WHAT)):\n",
    "        videoPath = os.path.join(TRAIN_DIR_WHAT, video) # full path of image\n",
    "        vid = readVideo(videoPath)\n",
    "        vid_short = sample(vid)\n",
    "        trainingData.append([np.array(vid_short), [0, 1]])\n",
    "    for video in tqdm(os.listdir(TRAIN_DIR_HUNGRY)):\n",
    "        videoPath = os.path.join(TRAIN_DIR_HUNGRY, video) # full path of image\n",
    "        vid = readVideo(videoPath)\n",
    "        vid_short = sample(vid)\n",
    "        trainingData.append([np.array(vid_short), [1, 0]])\n",
    "    np.save('trainingData.npy', trainingData) # save the training data in a numpy file\n",
    "    return trainingData"
   ]
  },
  {
   "cell_type": "code",
   "execution_count": 5,
   "metadata": {},
   "outputs": [
    {
     "name": "stderr",
     "output_type": "stream",
     "text": [
      "100%|██████████| 395/395 [10:53<00:00,  2.18s/it]\n",
      "100%|██████████| 251/251 [07:19<00:00,  1.99s/it]\n"
     ]
    }
   ],
   "source": [
    "train_data = createTrainingData()"
   ]
  },
  {
   "cell_type": "code",
   "execution_count": null,
   "metadata": {},
   "outputs": [],
   "source": []
  }
 ],
 "metadata": {
  "kernelspec": {
   "display_name": "Python 3",
   "language": "python",
   "name": "python3"
  },
  "language_info": {
   "codemirror_mode": {
    "name": "ipython",
    "version": 3
   },
   "file_extension": ".py",
   "mimetype": "text/x-python",
   "name": "python",
   "nbconvert_exporter": "python",
   "pygments_lexer": "ipython3",
   "version": "3.6.7"
  }
 },
 "nbformat": 4,
 "nbformat_minor": 2
}
