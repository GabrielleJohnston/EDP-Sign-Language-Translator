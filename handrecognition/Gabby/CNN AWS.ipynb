{
 "cells": [
  {
   "cell_type": "code",
   "execution_count": null,
   "metadata": {},
   "outputs": [],
   "source": [
    "import tensorflow as tf\n",
    "import tflearn\n",
    "import numpy as np\n",
    "from tflearn.layers.conv import conv_3d, max_pool_3d\n",
    "from tflearn.layers.core import input_data, dropout, fully_connected\n",
    "from tflearn.layers.estimator import regression\n",
    "from random import shuffle"
   ]
  },
  {
   "cell_type": "code",
   "execution_count": null,
   "metadata": {},
   "outputs": [],
   "source": [
    "IMG_SIZE = 54 # 50 x 50 image, for example\n",
    "TIME_LEN = 10 # 5 time points, for example\n",
    "LR = 1e-3 # learning rate, 1e-3 for example\n",
    "CONV_LAYERS = 13\n",
    "POOL_LAYERS = 5\n",
    "NO_CHANNELS = 1 # how many input streams i.e. a network with 3 channels could have RGB, depth, and body skeleton streams\n",
    "VERSION = 'VGG-1' # to keep track of changes in a particular model\n",
    "NO_SIGNS = 3 # number of signs to learn - i.e. the alphabet\n",
    "N_EPOCH = 100 # number of epochs\n",
    "MODEL_PATH = '3dconv-{}--{}--{}--{}--{}'.format(LR, CONV_LAYERS, POOL_LAYERS, NO_CHANNELS, VERSION)\n",
    "MODEL_NAME = '3dconv-{}--{}--{}--{}--{}-.model'.format(LR, CONV_LAYERS, POOL_LAYERS, NO_CHANNELS, VERSION)"
   ]
  },
  {
   "cell_type": "code",
   "execution_count": null,
   "metadata": {},
   "outputs": [],
   "source": [
    "conv_net = input_data(shape = [None, TIME_LEN, IMG_SIZE, IMG_SIZE, NO_CHANNELS], name = 'input')\n",
    "\n",
    "conv_net = conv_3d(conv_net, 64, 3, strides = 1, padding = 'same', activation = 'relu')\n",
    "conv_net = conv_3d(conv_net, 64, 3, strides = 1, padding = 'same', activation = 'relu')\n",
    "conv_net = max_pool_3d(conv_net, 2, strides = 2)\n",
    "\n",
    "conv_net = conv_3d(conv_net, 128, 3, strides = 1, padding = 'same', activation = 'relu')\n",
    "conv_net = conv_3d(conv_net, 128, 3, strides = 1, padding = 'same', activation = 'relu')\n",
    "conv_net = max_pool_3d(conv_net, 2, strides = 2)\n",
    "\n",
    "conv_net = conv_3d(conv_net, 256, 3, strides = 1, padding = 'same', activation = 'relu')\n",
    "conv_net = conv_3d(conv_net, 256, 3, strides = 1, padding = 'same', activation = 'relu')\n",
    "conv_net = conv_3d(conv_net, 256, 3, strides = 1, padding = 'same', activation = 'relu')\n",
    "conv_net = max_pool_3d(conv_net, 2, strides = 2)\n",
    "\n",
    "conv_net = conv_3d(conv_net, 512, 3, strides = 1, padding = 'same', activation = 'relu')\n",
    "conv_net = conv_3d(conv_net, 512, 3, strides = 1, padding = 'same', activation = 'relu')\n",
    "conv_net = conv_3d(conv_net, 512, 3, strides = 1, padding = 'same', activation = 'relu')\n",
    "conv_net = max_pool_3d(conv_net, 2, strides = 2)\n",
    "\n",
    "conv_net = conv_3d(conv_net, 512, 3, strides = 1, padding = 'same', activation = 'relu')\n",
    "conv_net = conv_3d(conv_net, 512, 3, strides = 1, padding = 'same', activation = 'relu')\n",
    "conv_net = conv_3d(conv_net, 512, 3, strides = 1, padding = 'same', activation = 'relu')\n",
    "conv_net = max_pool_3d(conv_net, 2, strides = 2)\n",
    "\n",
    "conv_net = fully_connected(conv_net, 4096, activation='relu')\n",
    "conv_net = dropout(conv_net, 0.5)\n",
    "conv_net = fully_connected(conv_net, 4096, activation='relu')\n",
    "conv_net = dropout(conv_net, 0.5)\n",
    "conv_net = fully_connected(conv_net, 3, activation='softmax')\n",
    "\n",
    "conv_net = regression(conv_net, optimizer = 'adam', learning_rate = LR, loss = 'categorical_crossentropy', name = 'targets')\n"
   ]
  },
  {
   "cell_type": "code",
   "execution_count": null,
   "metadata": {},
   "outputs": [],
   "source": [
    "train_data = np.load(\"trainingData.npy\")\n",
    "train_data_extra = np.load(\"trainingDataRotated.npy\")\n",
    "train_data_all = list(np.concatenate((train_data, train_data_extra), axis = 0))\n",
    "shuffle(train_data_all)\n",
    "\n",
    "X = np.array([i[0] for i in train_data_all]).reshape([-1, TIME_LEN, IMG_SIZE, IMG_SIZE, 1])\n",
    "Y = [i[1] for i in train_data_all]"
   ]
  },
  {
   "cell_type": "code",
   "execution_count": null,
   "metadata": {},
   "outputs": [],
   "source": [
    "model = tflearn.DNN(conv_net, tensorboard_dir = 'log', checkpoint_path = MODEL_PATH, max_checkpoints = 1, tensorboard_verbose = 1)\n",
    "model.fit(X, Y, n_epoch = N_EPOCH, validation_set = 0.1, show_metric = True, run_id = MODEL_PATH, snapshot_step = 100, shuffle = True) \n"
   ]
  },
  {
   "cell_type": "code",
   "execution_count": null,
   "metadata": {},
   "outputs": [],
   "source": [
    "model.save(MODEL_NAME)"
   ]
  }
 ],
 "metadata": {
  "kernelspec": {
   "display_name": "Python 3",
   "language": "python",
   "name": "python3"
  },
  "language_info": {
   "codemirror_mode": {
    "name": "ipython",
    "version": 3
   },
   "file_extension": ".py",
   "mimetype": "text/x-python",
   "name": "python",
   "nbconvert_exporter": "python",
   "pygments_lexer": "ipython3",
   "version": "3.6.3"
  }
 },
 "nbformat": 4,
 "nbformat_minor": 2
}
