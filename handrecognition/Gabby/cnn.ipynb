{
 "cells": [
  {
   "cell_type": "code",
   "execution_count": 1,
   "metadata": {},
   "outputs": [
    {
     "name": "stdout",
     "output_type": "stream",
     "text": [
      "curses is not supported on this machine (please install/reinstall curses for an optimal experience)\n"
     ]
    }
   ],
   "source": [
    "import tensorflow as tf\n",
    "import tflearn\n",
    "import numpy as np\n",
    "from tflearn.layers.conv import conv_3d, max_pool_3d\n",
    "from tflearn.layers.core import input_data, dropout, fully_connected\n",
    "from tflearn.layers.estimator import regression\n",
    "from random import shuffle"
   ]
  },
  {
   "cell_type": "code",
   "execution_count": 2,
   "metadata": {},
   "outputs": [],
   "source": [
    "# Defining constants\n",
    "#ver 1 = 10 epochs\n",
    "IMG_SIZE = 54 # 50 x 50 image, for example\n",
    "TIME_LEN = 10 # 5 time points, for example\n",
    "LR = 1e-3 # learning rate, for example\n",
    "CONV_LAYERS = 1\n",
    "POOL_LAYERS = 1\n",
    "NO_CHANNELS = 1 # how many input streams i.e. a network with 3 channels could have RGB, depth, and body skeleton streams\n",
    "VERSION = 2 # to keep track of changes in a particular model\n",
    "NO_SIGNS = 3 # number of signs to learn - i.e. the alphabet\n",
    "N_EPOCH = 5 # number of epochs\n",
    "MODEL_NAME = '3dconv-{}--{}--{}--{}--{}-.model'.format(LR, CONV_LAYERS, POOL_LAYERS, NO_CHANNELS, VERSION)"
   ]
  },
  {
   "cell_type": "code",
   "execution_count": 4,
   "metadata": {},
   "outputs": [],
   "source": [
    "train_data = np.load(\"trainingData.npy\")\n",
    "shuffle(train_data)\n",
    "\n",
    "X = np.array([i[0] for i in train_data]).reshape([-1, 10, 54, 54, 1])\n",
    "Y = [i[1] for i in train_data]"
   ]
  },
  {
   "cell_type": "code",
   "execution_count": 5,
   "metadata": {},
   "outputs": [
    {
     "name": "stdout",
     "output_type": "stream",
     "text": [
      "WARNING:tensorflow:From C:\\Users\\gabri\\Anaconda3\\lib\\site-packages\\tflearn\\initializations.py:119: UniformUnitScaling.__init__ (from tensorflow.python.ops.init_ops) is deprecated and will be removed in a future version.\n",
      "Instructions for updating:\n",
      "Use tf.initializers.variance_scaling instead with distribution=uniform to get equivalent behavior.\n",
      "WARNING:tensorflow:From C:\\Users\\gabri\\Anaconda3\\lib\\site-packages\\tflearn\\objectives.py:66: calling reduce_sum (from tensorflow.python.ops.math_ops) with keep_dims is deprecated and will be removed in a future version.\n",
      "Instructions for updating:\n",
      "keep_dims is deprecated, use keepdims instead\n"
     ]
    }
   ],
   "source": [
    "conv_net = input_data(shape = [None, TIME_LEN, IMG_SIZE, IMG_SIZE, NO_CHANNELS])\n",
    "\n",
    "conv_net = conv_3d(conv_net, 32, 3, strides = 1, padding = 'same', activation = 'relu')\n",
    "\n",
    "conv_net = max_pool_3d(conv_net, 2, strides = 2)\n",
    "\n",
    "conv_net = fully_connected(conv_net, 256, activation = 'relu')\n",
    "\n",
    "conv_net = dropout(conv_net, 0.8)\n",
    "\n",
    "conv_net = fully_connected(conv_net, NO_SIGNS, activation = 'softmax')\n",
    "\n",
    "conv_net = regression(conv_net, optimizer = 'adam', learning_rate = LR, loss = 'categorical_crossentropy', name = 'targets')\n"
   ]
  },
  {
   "cell_type": "code",
   "execution_count": 6,
   "metadata": {},
   "outputs": [],
   "source": [
    "model = tflearn.DNN(conv_net, tensorboard_dir = 'log', tensorboard_verbose=3)"
   ]
  },
  {
   "cell_type": "code",
   "execution_count": 7,
   "metadata": {},
   "outputs": [
    {
     "name": "stdout",
     "output_type": "stream",
     "text": [
      "Training Step: 129  | total loss: \u001b[1m\u001b[32m4.29591\u001b[0m\u001b[0m | time: 283.186s\n",
      "| Adam | epoch: 010 | loss: 4.29591 - acc: 0.8134 -- iter: 768/805\n",
      "Training Step: 130  | total loss: \u001b[1m\u001b[32m4.44197\u001b[0m\u001b[0m | time: 312.164s\n",
      "| Adam | epoch: 010 | loss: 4.44197 - acc: 0.8071 | val_loss: 4.09348 - val_acc: 0.8222 -- iter: 805/805\n",
      "--\n"
     ]
    }
   ],
   "source": [
    "model.fit(X, Y, n_epoch = N_EPOCH, validation_set = 0.1, show_metric = True, run_id = MODEL_NAME) \n"
   ]
  },
  {
   "cell_type": "code",
   "execution_count": 8,
   "metadata": {},
   "outputs": [
    {
     "name": "stdout",
     "output_type": "stream",
     "text": [
      "INFO:tensorflow:C:\\Users\\gabri\\Documents\\Python Scripts\\Project\\3dconv-1-1-1-1-1.tflearn is not in all_model_checkpoint_paths. Manually adding it.\n"
     ]
    }
   ],
   "source": [
    "model.save('3dconv-1-1-1-1-2.tflearn')"
   ]
  },
  {
   "cell_type": "code",
   "execution_count": null,
   "metadata": {},
   "outputs": [],
   "source": []
  }
 ],
 "metadata": {
  "kernelspec": {
   "display_name": "Python 3",
   "language": "python",
   "name": "python3"
  },
  "language_info": {
   "codemirror_mode": {
    "name": "ipython",
    "version": 3
   },
   "file_extension": ".py",
   "mimetype": "text/x-python",
   "name": "python",
   "nbconvert_exporter": "python",
   "pygments_lexer": "ipython3",
   "version": "3.6.7"
  }
 },
 "nbformat": 4,
 "nbformat_minor": 2
}
