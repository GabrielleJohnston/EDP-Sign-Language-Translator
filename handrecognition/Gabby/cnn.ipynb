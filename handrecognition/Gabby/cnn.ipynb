{
 "cells": [
  {
   "cell_type": "code",
   "execution_count": null,
   "metadata": {},
   "outputs": [],
   "source": [
    "import tensorflow as tf\n",
    "import tflearn\n",
    "import numpy as np\n",
    "from tflearn.layers.conv import conv_3d, max_pool_3d\n",
    "from tflearn.layers.core import input_data, dropout, fully_connected\n",
    "from tflearn.layers.estimator import regression\n",
    "from random import shuffle"
   ]
  },
  {
   "cell_type": "code",
   "execution_count": null,
   "metadata": {},
   "outputs": [],
   "source": [
    "# Defining constants\n",
    "IMG_SIZE = 54 # 50 x 50 image, for example\n",
    "TIME_LEN = 10 # 5 time points, for example\n",
    "LR = 1e-3 # learning rate, for example\n",
    "CONV_LAYERS = 1\n",
    "POOL_LAYERS = 1\n",
    "NO_CHANNELS = 1 # how many input streams i.e. a network with 3 channels could have RGB, depth, and body skeleton streams\n",
    "VERSION = 1 # to keep track of changes in a particular model\n",
    "NO_SIGNS = 2 # number of signs to learn - i.e. the alphabet\n",
    "N_EPOCH = 10 # number of epochs\n",
    "MODEL_NAME = '3dconv-{}--{}--{}--{}--{}-.model'.format(LR, CONV_LAYERS, POOL_LAYERS, NO_CHANNELS, VERSION)"
   ]
  },
  {
   "cell_type": "code",
   "execution_count": null,
   "metadata": {},
   "outputs": [],
   "source": [
    "data = np.load(\"trainingData.npy\")\n",
    "shuffle(data)\n",
    "train_data = data[:-10]\n",
    "test_data = data[-10:]\n",
    "X = np.array([train_data[i][0] for i in range(0, len(train_data)-1)])\n",
    "Y = [train_data[i][1] for i in range(0, len(train_data)-1)]\n",
    "\n",
    "test_X = np.array([test_data[i][0] for i in range(0, len(test_data)-1)])\n",
    "test_Y = [test_data[i][1] for i in range(0, len(test_data)-1)]\n"
   ]
  },
  {
   "cell_type": "code",
   "execution_count": null,
   "metadata": {},
   "outputs": [],
   "source": [
    "conv_net = input_data(shape = [None, TIME_LEN, IMG_SIZE, IMG_SIZE, NO_CHANNELS], name = 'input')\n",
    "\n",
    "conv_net = conv_3d(conv_net, 32, 3, strides = 1, padding = 'same', activation = 'relu')\n",
    "\n",
    "conv_net = max_pool_3d(conv_net, 2, strides = 2)\n",
    "\n",
    "conv_net = fully_connected(conv_net, 256, activation = 'relu')\n",
    "\n",
    "conv_net = dropout(conv_net, 0.8)\n",
    "\n",
    "conv_net = fully_connected(conv_net, NO_SIGNS, activation = 'softmax')\n",
    "\n",
    "conv_net = regression(conv_net, optimizer = 'adam', learning_rate = LR, loss = 'categorical_crossentropy', name = 'targets')\n"
   ]
  },
  {
   "cell_type": "code",
   "execution_count": null,
   "metadata": {},
   "outputs": [],
   "source": [
    "model = tflearn.DNN(conv_net, tensorboard_dir = 'log')"
   ]
  },
  {
   "cell_type": "code",
   "execution_count": null,
   "metadata": {},
   "outputs": [],
   "source": [
    "model.fit({'input':X}, {'targets':Y}, n_epoch = N_EPOCH, validation_set = ({'input':test_X}, {'targets':test_Y}),\n",
    "          show_metric = True, run_id = MODEL_NAME) \n"
   ]
  },
  {
   "cell_type": "code",
   "execution_count": null,
   "metadata": {},
   "outputs": [],
   "source": []
  }
 ],
 "metadata": {
  "kernelspec": {
   "display_name": "Python 3",
   "language": "python",
   "name": "python3"
  },
  "language_info": {
   "codemirror_mode": {
    "name": "ipython",
    "version": 3
   },
   "file_extension": ".py",
   "mimetype": "text/x-python",
   "name": "python",
   "nbconvert_exporter": "python",
   "pygments_lexer": "ipython3",
   "version": "3.6.7"
  }
 },
 "nbformat": 4,
 "nbformat_minor": 2
}
