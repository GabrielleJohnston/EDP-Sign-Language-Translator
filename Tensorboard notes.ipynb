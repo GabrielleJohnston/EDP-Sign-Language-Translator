{
 "cells": [
  {
   "cell_type": "markdown",
   "metadata": {},
   "source": [
    "# Tensorboard notes\n",
    "## Installation Instructions\n",
    "In anaconda prompt enter:\n",
    "```\n",
    "pip install tensorboard\n",
    "```\n"
   ]
  },
  {
   "cell_type": "markdown",
   "metadata": {},
   "source": [
    "## Using tflearn\n",
    "When creating your model (after creating the layers), enter 'log' after the tensorboard_dir parameter.\n",
    "\n",
    "```\n",
    "model = tflearn.DNN(conv_net, tensorboard_dir = 'log')\n",
    "```"
   ]
  },
  {
   "cell_type": "markdown",
   "metadata": {},
   "source": [
    "## Using keras\n",
    "Create a callback for tensorboard some place in your code:\n",
    "\n",
    "```\n",
    "tbCallBack = keras.callbacks.TensorBoard(log_dir='./log', histogram_freq=0, write_graph=True, write_images=True)\n",
    "```\n",
    "When you are ready to fit your model, enter in the callbacks parameter \\[tbCallback\\].\n",
    "```\n",
    "model.fit(, callbacks = [tbCallBack])\n",
    "```\n",
    "I think this should work, but I haven't had a chance to test it so let me know if it doesn't."
   ]
  },
  {
   "cell_type": "markdown",
   "metadata": {},
   "source": [
    "## Viewing your graphs\n",
    "To view your graphs, copy and paste the following into command prompt:\n",
    "```\n",
    "tensorboard --logdir = foo:C:/.../yourprojectdirectory/log\n",
    "```\n",
    "For example:\n",
    "```\n",
    "tensorboard --logdir = foo:C:/Users/gabri/Documents/Python Scripts/Project/3D CNN/log\n",
    "```\n",
    "Foo can be replaced with another name.\n",
    "Go to the link that tensorboard gives you in the command prompt."
   ]
  },
  {
   "cell_type": "markdown",
   "metadata": {},
   "source": [
    "## Clearing your graphs\n",
    "The easiest way to do this is just resetting your notebook session. You can load in your model if you don't want to train it again. \n",
    "Alternatively, you can run this:\n",
    "```\n",
    "import tensorflow as tf\n",
    "tf.reset_default_graph()\n",
    "```\n",
    "Make sure that you have changed your run_id if you are using tflearn (in model.fit) if you have run the above code and not reset the notebook session. I'm not sure if you need to change anything for keras."
   ]
  }
 ],
 "metadata": {
  "kernelspec": {
   "display_name": "Python 3",
   "language": "python",
   "name": "python3"
  },
  "language_info": {
   "codemirror_mode": {
    "name": "ipython",
    "version": 3
   },
   "file_extension": ".py",
   "mimetype": "text/x-python",
   "name": "python",
   "nbconvert_exporter": "python",
   "pygments_lexer": "ipython3",
   "version": "3.6.7"
  }
 },
 "nbformat": 4,
 "nbformat_minor": 2
}
